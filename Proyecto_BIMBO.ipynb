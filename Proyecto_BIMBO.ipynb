{
 "cells": [
  {
   "cell_type": "markdown",
   "metadata": {},
   "source": [
    "#### PROYECTO \n",
    "___\n",
    "**Preparado para:** Héctor Cuesta Arvizu\n",
    "\n",
    "**Preparado por:** Karina Daniela Chaires López\n",
    "\n",
    "Zacatecas, Zacatecas Diciembre de 2017\n",
    "___\n",
    "\n"
   ]
  },
  {
   "cell_type": "markdown",
   "metadata": {},
   "source": [
    "#### 1. Introducción\n",
    "<p><strong>Grupo Bimbo</strong> debe sopesar consideraciones para anticipar sus ventas, ya que se esfuerza por satisfacer la demanda diaria de los consumidores de productos frescos de panadería en los estantes de más de 1 millón de tiendas a lo largo de sus 45,000 rutas en todo México.\n",
    "\n",
    "Para ello lanza un reto en <strong>kaggle</strong> <hfer> https://www.kaggle.com/c/grupo-bimbo-inventory-demand <href>, en la cual se pretende desarrollar un modelo predictivo para pronosticar con presición la demanda de inventario.\n",
    "Como parte de la implementación de herramientas para el análisis de datos, en el presente proyecto solo se tomarán los datasets proporcionados en dicho reto (no se desarrolla solución para el reto antes mencionado).</p>"
   ]
  },
  {
   "cell_type": "markdown",
   "metadata": {},
   "source": [
    "#### 2. Resumen\n",
    "<p>Se realizó el proceso para poder responder los siguientes questionamientos:</p>\n",
    "\n",
    "- Demanda de cantidad de producto por semana.\n",
    "- Distribución de ventas en México.\n",
    "- Tendencias de los consumidores en México.\n",
    "- Ventas por semana.\n"
   ]
  },
  {
   "cell_type": "markdown",
   "metadata": {},
   "source": [
    "#### 3. Metodología\n",
    "- Fuente de datos:<strong> kaggle </strong> \n",
    "- Análisis exploratorio:<strong> Notebook Jupyter kernels python3, pandas</strong> \n",
    "- Transformación de datos:<strong> Apache Pig version 0.12.0-cdh5.12.0</strong> \n",
    "- Almacenamiento:<strong> schema CSV</strong> \n",
    "- Procesamiento:<strong> Apache Pig version 0.12.0-cdh5.12.0</strong> \n",
    "- Visualización:<strong> Notebook Jupyter kernels python3,  plotly-2.2.3</strong> "
   ]
  },
  {
   "cell_type": "markdown",
   "metadata": {},
   "source": [
    "#### 4. Desarrollo "
   ]
  },
  {
   "cell_type": "markdown",
   "metadata": {},
   "source": [
    "<blockquote>\n",
    "<p>ANALIZAR</p>\n",
    "</blockquote>"
   ]
  },
  {
   "cell_type": "markdown",
   "metadata": {},
   "source": [
    "File descriptions\n",
    "\n",
    "- train.csv — the training set\n",
    "- test.csv — the test set\n",
    "- sample_submission.csv — a sample submission file in the correct format\n",
    "- cliente_tabla.csv — client names (can be joined with train/test on Cliente_ID)\n",
    "- producto_tabla.csv — product names (can be joined with train/test on Producto_ID)\n",
    "- town_state.csv — town and state (can be joined with train/test on Agencia_ID)\n",
    "\n",
    "Data fields\n",
    "\n",
    "- Semana — Week number (From Thursday to Wednesday)\n",
    "- Agencia_ID — Sales Depot ID\n",
    "- Canal_ID — Sales Channel ID\n",
    "- Ruta_SAK — Route ID (Several routes = Sales Depot)\n",
    "- Cliente_ID — Client ID\n",
    "- NombreCliente — Client name\n",
    "- Producto_ID — Product ID\n",
    "- NombreProducto — Product Name\n",
    "- Venta_uni_hoy — Sales unit this week (integer)\n",
    "- Venta_hoy — Sales this week (unit: pesos)\n",
    "- Dev_uni_proxima — Returns unit next week (integer)\n",
    "- Dev_proxima — Returns next week (unit: pesos)\n",
    "- Demanda_uni_equil — Adjusted Demand (integer) (This is the target you will predict)"
   ]
  },
  {
   "cell_type": "code",
   "execution_count": 1,
   "metadata": {
    "collapsed": true
   },
   "outputs": [],
   "source": [
    "import pandas as pd\n",
    "from pandas import DataFrame as df"
   ]
  },
  {
   "cell_type": "code",
   "execution_count": 2,
   "metadata": {
    "collapsed": true
   },
   "outputs": [],
   "source": [
    "datos = pd.read_csv('DATASET_BIMBO/test.csv')"
   ]
  },
  {
   "cell_type": "code",
   "execution_count": 3,
   "metadata": {},
   "outputs": [
    {
     "name": "stdout",
     "output_type": "stream",
     "text": [
      "<class 'pandas.core.frame.DataFrame'>\n",
      "RangeIndex: 6999251 entries, 0 to 6999250\n",
      "Data columns (total 7 columns):\n",
      "id             int64\n",
      "Semana         int64\n",
      "Agencia_ID     int64\n",
      "Canal_ID       int64\n",
      "Ruta_SAK       int64\n",
      "Cliente_ID     int64\n",
      "Producto_ID    int64\n",
      "dtypes: int64(7)\n",
      "memory usage: 373.8 MB\n"
     ]
    }
   ],
   "source": [
    "df.info(datos)"
   ]
  },
  {
   "cell_type": "code",
   "execution_count": 4,
   "metadata": {},
   "outputs": [
    {
     "data": {
      "text/html": [
       "<div>\n",
       "<style>\n",
       "    .dataframe thead tr:only-child th {\n",
       "        text-align: right;\n",
       "    }\n",
       "\n",
       "    .dataframe thead th {\n",
       "        text-align: left;\n",
       "    }\n",
       "\n",
       "    .dataframe tbody tr th {\n",
       "        vertical-align: top;\n",
       "    }\n",
       "</style>\n",
       "<table border=\"1\" class=\"dataframe\">\n",
       "  <thead>\n",
       "    <tr style=\"text-align: right;\">\n",
       "      <th></th>\n",
       "      <th>id</th>\n",
       "      <th>Semana</th>\n",
       "      <th>Agencia_ID</th>\n",
       "      <th>Canal_ID</th>\n",
       "      <th>Ruta_SAK</th>\n",
       "      <th>Cliente_ID</th>\n",
       "      <th>Producto_ID</th>\n",
       "    </tr>\n",
       "  </thead>\n",
       "  <tbody>\n",
       "    <tr>\n",
       "      <th>6999246</th>\n",
       "      <td>6999246</td>\n",
       "      <td>11</td>\n",
       "      <td>2057</td>\n",
       "      <td>1</td>\n",
       "      <td>1153</td>\n",
       "      <td>4379638</td>\n",
       "      <td>1232</td>\n",
       "    </tr>\n",
       "    <tr>\n",
       "      <th>6999247</th>\n",
       "      <td>6999247</td>\n",
       "      <td>10</td>\n",
       "      <td>1334</td>\n",
       "      <td>1</td>\n",
       "      <td>2008</td>\n",
       "      <td>970421</td>\n",
       "      <td>43069</td>\n",
       "    </tr>\n",
       "    <tr>\n",
       "      <th>6999248</th>\n",
       "      <td>6999248</td>\n",
       "      <td>11</td>\n",
       "      <td>1622</td>\n",
       "      <td>1</td>\n",
       "      <td>2869</td>\n",
       "      <td>192749</td>\n",
       "      <td>30532</td>\n",
       "    </tr>\n",
       "    <tr>\n",
       "      <th>6999249</th>\n",
       "      <td>6999249</td>\n",
       "      <td>11</td>\n",
       "      <td>1636</td>\n",
       "      <td>1</td>\n",
       "      <td>4401</td>\n",
       "      <td>286071</td>\n",
       "      <td>35107</td>\n",
       "    </tr>\n",
       "    <tr>\n",
       "      <th>6999250</th>\n",
       "      <td>6999250</td>\n",
       "      <td>11</td>\n",
       "      <td>1625</td>\n",
       "      <td>1</td>\n",
       "      <td>1259</td>\n",
       "      <td>978760</td>\n",
       "      <td>1232</td>\n",
       "    </tr>\n",
       "  </tbody>\n",
       "</table>\n",
       "</div>"
      ],
      "text/plain": [
       "              id  Semana  Agencia_ID  Canal_ID  Ruta_SAK  Cliente_ID  \\\n",
       "6999246  6999246      11        2057         1      1153     4379638   \n",
       "6999247  6999247      10        1334         1      2008      970421   \n",
       "6999248  6999248      11        1622         1      2869      192749   \n",
       "6999249  6999249      11        1636         1      4401      286071   \n",
       "6999250  6999250      11        1625         1      1259      978760   \n",
       "\n",
       "         Producto_ID  \n",
       "6999246         1232  \n",
       "6999247        43069  \n",
       "6999248        30532  \n",
       "6999249        35107  \n",
       "6999250         1232  "
      ]
     },
     "execution_count": 4,
     "metadata": {},
     "output_type": "execute_result"
    }
   ],
   "source": [
    "df.tail(datos)"
   ]
  },
  {
   "cell_type": "code",
   "execution_count": 5,
   "metadata": {},
   "outputs": [
    {
     "data": {
      "text/html": [
       "<div>\n",
       "<style>\n",
       "    .dataframe thead tr:only-child th {\n",
       "        text-align: right;\n",
       "    }\n",
       "\n",
       "    .dataframe thead th {\n",
       "        text-align: left;\n",
       "    }\n",
       "\n",
       "    .dataframe tbody tr th {\n",
       "        vertical-align: top;\n",
       "    }\n",
       "</style>\n",
       "<table border=\"1\" class=\"dataframe\">\n",
       "  <thead>\n",
       "    <tr style=\"text-align: right;\">\n",
       "      <th></th>\n",
       "      <th>id</th>\n",
       "      <th>Semana</th>\n",
       "      <th>Agencia_ID</th>\n",
       "      <th>Canal_ID</th>\n",
       "      <th>Ruta_SAK</th>\n",
       "      <th>Cliente_ID</th>\n",
       "      <th>Producto_ID</th>\n",
       "    </tr>\n",
       "  </thead>\n",
       "  <tbody>\n",
       "    <tr>\n",
       "      <th>count</th>\n",
       "      <td>6.999251e+06</td>\n",
       "      <td>6.999251e+06</td>\n",
       "      <td>6.999251e+06</td>\n",
       "      <td>6.999251e+06</td>\n",
       "      <td>6.999251e+06</td>\n",
       "      <td>6.999251e+06</td>\n",
       "      <td>6.999251e+06</td>\n",
       "    </tr>\n",
       "    <tr>\n",
       "      <th>mean</th>\n",
       "      <td>3.499625e+06</td>\n",
       "      <td>1.049446e+01</td>\n",
       "      <td>2.504463e+03</td>\n",
       "      <td>1.401874e+00</td>\n",
       "      <td>2.138014e+03</td>\n",
       "      <td>1.819128e+06</td>\n",
       "      <td>2.216307e+04</td>\n",
       "    </tr>\n",
       "    <tr>\n",
       "      <th>std</th>\n",
       "      <td>2.020510e+06</td>\n",
       "      <td>4.999694e-01</td>\n",
       "      <td>4.010228e+03</td>\n",
       "      <td>1.513404e+00</td>\n",
       "      <td>1.500392e+03</td>\n",
       "      <td>2.938910e+06</td>\n",
       "      <td>1.869816e+04</td>\n",
       "    </tr>\n",
       "    <tr>\n",
       "      <th>min</th>\n",
       "      <td>0.000000e+00</td>\n",
       "      <td>1.000000e+01</td>\n",
       "      <td>1.110000e+03</td>\n",
       "      <td>1.000000e+00</td>\n",
       "      <td>1.000000e+00</td>\n",
       "      <td>2.600000e+01</td>\n",
       "      <td>4.100000e+01</td>\n",
       "    </tr>\n",
       "    <tr>\n",
       "      <th>25%</th>\n",
       "      <td>1.749812e+06</td>\n",
       "      <td>1.000000e+01</td>\n",
       "      <td>1.311000e+03</td>\n",
       "      <td>1.000000e+00</td>\n",
       "      <td>1.159000e+03</td>\n",
       "      <td>3.558290e+05</td>\n",
       "      <td>1.242000e+03</td>\n",
       "    </tr>\n",
       "    <tr>\n",
       "      <th>50%</th>\n",
       "      <td>3.499625e+06</td>\n",
       "      <td>1.000000e+01</td>\n",
       "      <td>1.612000e+03</td>\n",
       "      <td>1.000000e+00</td>\n",
       "      <td>1.305000e+03</td>\n",
       "      <td>1.200109e+06</td>\n",
       "      <td>3.150700e+04</td>\n",
       "    </tr>\n",
       "    <tr>\n",
       "      <th>75%</th>\n",
       "      <td>5.249438e+06</td>\n",
       "      <td>1.100000e+01</td>\n",
       "      <td>2.034000e+03</td>\n",
       "      <td>1.000000e+00</td>\n",
       "      <td>2.804000e+03</td>\n",
       "      <td>2.387881e+06</td>\n",
       "      <td>4.093000e+04</td>\n",
       "    </tr>\n",
       "    <tr>\n",
       "      <th>max</th>\n",
       "      <td>6.999250e+06</td>\n",
       "      <td>1.100000e+01</td>\n",
       "      <td>2.575900e+04</td>\n",
       "      <td>1.100000e+01</td>\n",
       "      <td>9.950000e+03</td>\n",
       "      <td>2.015152e+09</td>\n",
       "      <td>4.999700e+04</td>\n",
       "    </tr>\n",
       "  </tbody>\n",
       "</table>\n",
       "</div>"
      ],
      "text/plain": [
       "                 id        Semana    Agencia_ID      Canal_ID      Ruta_SAK  \\\n",
       "count  6.999251e+06  6.999251e+06  6.999251e+06  6.999251e+06  6.999251e+06   \n",
       "mean   3.499625e+06  1.049446e+01  2.504463e+03  1.401874e+00  2.138014e+03   \n",
       "std    2.020510e+06  4.999694e-01  4.010228e+03  1.513404e+00  1.500392e+03   \n",
       "min    0.000000e+00  1.000000e+01  1.110000e+03  1.000000e+00  1.000000e+00   \n",
       "25%    1.749812e+06  1.000000e+01  1.311000e+03  1.000000e+00  1.159000e+03   \n",
       "50%    3.499625e+06  1.000000e+01  1.612000e+03  1.000000e+00  1.305000e+03   \n",
       "75%    5.249438e+06  1.100000e+01  2.034000e+03  1.000000e+00  2.804000e+03   \n",
       "max    6.999250e+06  1.100000e+01  2.575900e+04  1.100000e+01  9.950000e+03   \n",
       "\n",
       "         Cliente_ID   Producto_ID  \n",
       "count  6.999251e+06  6.999251e+06  \n",
       "mean   1.819128e+06  2.216307e+04  \n",
       "std    2.938910e+06  1.869816e+04  \n",
       "min    2.600000e+01  4.100000e+01  \n",
       "25%    3.558290e+05  1.242000e+03  \n",
       "50%    1.200109e+06  3.150700e+04  \n",
       "75%    2.387881e+06  4.093000e+04  \n",
       "max    2.015152e+09  4.999700e+04  "
      ]
     },
     "execution_count": 5,
     "metadata": {},
     "output_type": "execute_result"
    }
   ],
   "source": [
    "datos.describe()"
   ]
  },
  {
   "cell_type": "code",
   "execution_count": 6,
   "metadata": {
    "collapsed": true
   },
   "outputs": [],
   "source": [
    "datosCliente = pd.read_csv('DATASET_BIMBO/cliente_tabla.csv')"
   ]
  },
  {
   "cell_type": "code",
   "execution_count": 7,
   "metadata": {},
   "outputs": [
    {
     "data": {
      "text/html": [
       "<div>\n",
       "<style>\n",
       "    .dataframe thead tr:only-child th {\n",
       "        text-align: right;\n",
       "    }\n",
       "\n",
       "    .dataframe thead th {\n",
       "        text-align: left;\n",
       "    }\n",
       "\n",
       "    .dataframe tbody tr th {\n",
       "        vertical-align: top;\n",
       "    }\n",
       "</style>\n",
       "<table border=\"1\" class=\"dataframe\">\n",
       "  <thead>\n",
       "    <tr style=\"text-align: right;\">\n",
       "      <th></th>\n",
       "      <th>Cliente_ID</th>\n",
       "      <th>NombreCliente</th>\n",
       "    </tr>\n",
       "  </thead>\n",
       "  <tbody>\n",
       "    <tr>\n",
       "      <th>935357</th>\n",
       "      <td>11011586</td>\n",
       "      <td>OXXO PETEN</td>\n",
       "    </tr>\n",
       "    <tr>\n",
       "      <th>935358</th>\n",
       "      <td>11693264</td>\n",
       "      <td>SUPER ABARROTES MARY</td>\n",
       "    </tr>\n",
       "    <tr>\n",
       "      <th>935359</th>\n",
       "      <td>19988629</td>\n",
       "      <td>NO IDENTIFICADO</td>\n",
       "    </tr>\n",
       "    <tr>\n",
       "      <th>935360</th>\n",
       "      <td>99999999</td>\n",
       "      <td>NO IDENTIFICADO</td>\n",
       "    </tr>\n",
       "    <tr>\n",
       "      <th>935361</th>\n",
       "      <td>2015152015</td>\n",
       "      <td>NO IDENTIFICADO</td>\n",
       "    </tr>\n",
       "  </tbody>\n",
       "</table>\n",
       "</div>"
      ],
      "text/plain": [
       "        Cliente_ID         NombreCliente\n",
       "935357    11011586            OXXO PETEN\n",
       "935358    11693264  SUPER ABARROTES MARY\n",
       "935359    19988629       NO IDENTIFICADO\n",
       "935360    99999999       NO IDENTIFICADO\n",
       "935361  2015152015       NO IDENTIFICADO"
      ]
     },
     "execution_count": 7,
     "metadata": {},
     "output_type": "execute_result"
    }
   ],
   "source": [
    "df.tail(datosCliente)"
   ]
  },
  {
   "cell_type": "code",
   "execution_count": 8,
   "metadata": {},
   "outputs": [
    {
     "name": "stdout",
     "output_type": "stream",
     "text": [
      "<class 'pandas.core.frame.DataFrame'>\n",
      "RangeIndex: 935362 entries, 0 to 935361\n",
      "Data columns (total 2 columns):\n",
      "Cliente_ID       935362 non-null int64\n",
      "NombreCliente    935362 non-null object\n",
      "dtypes: int64(1), object(1)\n",
      "memory usage: 14.3+ MB\n"
     ]
    }
   ],
   "source": [
    "df.info(datosCliente)"
   ]
  },
  {
   "cell_type": "code",
   "execution_count": 9,
   "metadata": {
    "collapsed": true
   },
   "outputs": [],
   "source": [
    "datosProducto = pd.read_csv('DATASET_BIMBO/producto_tabla.csv')"
   ]
  },
  {
   "cell_type": "code",
   "execution_count": 10,
   "metadata": {},
   "outputs": [
    {
     "data": {
      "text/html": [
       "<div>\n",
       "<style>\n",
       "    .dataframe thead tr:only-child th {\n",
       "        text-align: right;\n",
       "    }\n",
       "\n",
       "    .dataframe thead th {\n",
       "        text-align: left;\n",
       "    }\n",
       "\n",
       "    .dataframe tbody tr th {\n",
       "        vertical-align: top;\n",
       "    }\n",
       "</style>\n",
       "<table border=\"1\" class=\"dataframe\">\n",
       "  <thead>\n",
       "    <tr style=\"text-align: right;\">\n",
       "      <th></th>\n",
       "      <th>Producto_ID</th>\n",
       "      <th>NombreProducto</th>\n",
       "    </tr>\n",
       "  </thead>\n",
       "  <tbody>\n",
       "    <tr>\n",
       "      <th>2587</th>\n",
       "      <td>49992</td>\n",
       "      <td>Tostado Integral 180g MTA WON 49992</td>\n",
       "    </tr>\n",
       "    <tr>\n",
       "      <th>2588</th>\n",
       "      <td>49993</td>\n",
       "      <td>Tostado Integral 180g TAB WON 49993</td>\n",
       "    </tr>\n",
       "    <tr>\n",
       "      <th>2589</th>\n",
       "      <td>49994</td>\n",
       "      <td>Tostado Int 0pct Grasa Azuc 200g WON 49994</td>\n",
       "    </tr>\n",
       "    <tr>\n",
       "      <th>2590</th>\n",
       "      <td>49996</td>\n",
       "      <td>Tostado Int 0pct Grasa Azuc 200g MTA WON 49996</td>\n",
       "    </tr>\n",
       "    <tr>\n",
       "      <th>2591</th>\n",
       "      <td>49997</td>\n",
       "      <td>Tostado Int 0pct Grasa Azuc 200g TAB WON 49997</td>\n",
       "    </tr>\n",
       "  </tbody>\n",
       "</table>\n",
       "</div>"
      ],
      "text/plain": [
       "      Producto_ID                                  NombreProducto\n",
       "2587        49992             Tostado Integral 180g MTA WON 49992\n",
       "2588        49993             Tostado Integral 180g TAB WON 49993\n",
       "2589        49994      Tostado Int 0pct Grasa Azuc 200g WON 49994\n",
       "2590        49996  Tostado Int 0pct Grasa Azuc 200g MTA WON 49996\n",
       "2591        49997  Tostado Int 0pct Grasa Azuc 200g TAB WON 49997"
      ]
     },
     "execution_count": 10,
     "metadata": {},
     "output_type": "execute_result"
    }
   ],
   "source": [
    "df.tail(datosProducto)"
   ]
  },
  {
   "cell_type": "code",
   "execution_count": 11,
   "metadata": {},
   "outputs": [
    {
     "name": "stdout",
     "output_type": "stream",
     "text": [
      "<class 'pandas.core.frame.DataFrame'>\n",
      "RangeIndex: 2592 entries, 0 to 2591\n",
      "Data columns (total 2 columns):\n",
      "Producto_ID       2592 non-null int64\n",
      "NombreProducto    2592 non-null object\n",
      "dtypes: int64(1), object(1)\n",
      "memory usage: 40.6+ KB\n"
     ]
    }
   ],
   "source": [
    "df.info(datosProducto)"
   ]
  },
  {
   "cell_type": "code",
   "execution_count": 12,
   "metadata": {
    "collapsed": true
   },
   "outputs": [],
   "source": [
    "datosAgencia = pd.read_csv('DATASET_BIMBO/town_state.csv')"
   ]
  },
  {
   "cell_type": "code",
   "execution_count": 13,
   "metadata": {},
   "outputs": [
    {
     "data": {
      "text/html": [
       "<div>\n",
       "<style>\n",
       "    .dataframe thead tr:only-child th {\n",
       "        text-align: right;\n",
       "    }\n",
       "\n",
       "    .dataframe thead th {\n",
       "        text-align: left;\n",
       "    }\n",
       "\n",
       "    .dataframe tbody tr th {\n",
       "        vertical-align: top;\n",
       "    }\n",
       "</style>\n",
       "<table border=\"1\" class=\"dataframe\">\n",
       "  <thead>\n",
       "    <tr style=\"text-align: right;\">\n",
       "      <th></th>\n",
       "      <th>Agencia_ID</th>\n",
       "      <th>Town</th>\n",
       "      <th>State</th>\n",
       "    </tr>\n",
       "  </thead>\n",
       "  <tbody>\n",
       "    <tr>\n",
       "      <th>785</th>\n",
       "      <td>25729</td>\n",
       "      <td>2572 TIJUANA EL FLORIDO</td>\n",
       "      <td>BAJA CALIFORNIA NORTE</td>\n",
       "    </tr>\n",
       "    <tr>\n",
       "      <th>786</th>\n",
       "      <td>25739</td>\n",
       "      <td>2573 TIJUANA GATO BRONCO</td>\n",
       "      <td>BAJA CALIFORNIA NORTE</td>\n",
       "    </tr>\n",
       "    <tr>\n",
       "      <th>787</th>\n",
       "      <td>25749</td>\n",
       "      <td>2574 TIJUANA PACIFICO</td>\n",
       "      <td>BAJA CALIFORNIA NORTE</td>\n",
       "    </tr>\n",
       "    <tr>\n",
       "      <th>788</th>\n",
       "      <td>25759</td>\n",
       "      <td>2575 TIJUANA ROSARITO</td>\n",
       "      <td>BAJA CALIFORNIA NORTE</td>\n",
       "    </tr>\n",
       "    <tr>\n",
       "      <th>789</th>\n",
       "      <td>25769</td>\n",
       "      <td>2576 GUERRERO NEGRO</td>\n",
       "      <td>BAJA CALIFORNIA SUR</td>\n",
       "    </tr>\n",
       "  </tbody>\n",
       "</table>\n",
       "</div>"
      ],
      "text/plain": [
       "     Agencia_ID                      Town                  State\n",
       "785       25729   2572 TIJUANA EL FLORIDO  BAJA CALIFORNIA NORTE\n",
       "786       25739  2573 TIJUANA GATO BRONCO  BAJA CALIFORNIA NORTE\n",
       "787       25749     2574 TIJUANA PACIFICO  BAJA CALIFORNIA NORTE\n",
       "788       25759     2575 TIJUANA ROSARITO  BAJA CALIFORNIA NORTE\n",
       "789       25769       2576 GUERRERO NEGRO    BAJA CALIFORNIA SUR"
      ]
     },
     "execution_count": 13,
     "metadata": {},
     "output_type": "execute_result"
    }
   ],
   "source": [
    "df.tail(datosAgencia)"
   ]
  },
  {
   "cell_type": "code",
   "execution_count": 14,
   "metadata": {},
   "outputs": [
    {
     "name": "stdout",
     "output_type": "stream",
     "text": [
      "<class 'pandas.core.frame.DataFrame'>\n",
      "RangeIndex: 790 entries, 0 to 789\n",
      "Data columns (total 3 columns):\n",
      "Agencia_ID    790 non-null int64\n",
      "Town          790 non-null object\n",
      "State         790 non-null object\n",
      "dtypes: int64(1), object(2)\n",
      "memory usage: 18.6+ KB\n"
     ]
    }
   ],
   "source": [
    "df.info(datosAgencia)"
   ]
  },
  {
   "cell_type": "code",
   "execution_count": 15,
   "metadata": {
    "collapsed": true
   },
   "outputs": [],
   "source": [
    "datosEntrenamiento = pd.read_csv('DATASET_BIMBO/train.csv')"
   ]
  },
  {
   "cell_type": "code",
   "execution_count": 16,
   "metadata": {
    "scrolled": true
   },
   "outputs": [
    {
     "data": {
      "text/html": [
       "<div>\n",
       "<style>\n",
       "    .dataframe thead tr:only-child th {\n",
       "        text-align: right;\n",
       "    }\n",
       "\n",
       "    .dataframe thead th {\n",
       "        text-align: left;\n",
       "    }\n",
       "\n",
       "    .dataframe tbody tr th {\n",
       "        vertical-align: top;\n",
       "    }\n",
       "</style>\n",
       "<table border=\"1\" class=\"dataframe\">\n",
       "  <thead>\n",
       "    <tr style=\"text-align: right;\">\n",
       "      <th></th>\n",
       "      <th>Semana</th>\n",
       "      <th>Agencia_ID</th>\n",
       "      <th>Canal_ID</th>\n",
       "      <th>Ruta_SAK</th>\n",
       "      <th>Cliente_ID</th>\n",
       "      <th>Producto_ID</th>\n",
       "      <th>Venta_uni_hoy</th>\n",
       "      <th>Venta_hoy</th>\n",
       "      <th>Dev_uni_proxima</th>\n",
       "      <th>Dev_proxima</th>\n",
       "      <th>Demanda_uni_equil</th>\n",
       "    </tr>\n",
       "  </thead>\n",
       "  <tbody>\n",
       "    <tr>\n",
       "      <th>74180459</th>\n",
       "      <td>9</td>\n",
       "      <td>25759</td>\n",
       "      <td>1</td>\n",
       "      <td>5517</td>\n",
       "      <td>4528866</td>\n",
       "      <td>32873</td>\n",
       "      <td>4</td>\n",
       "      <td>27.76</td>\n",
       "      <td>0</td>\n",
       "      <td>0.00</td>\n",
       "      <td>4</td>\n",
       "    </tr>\n",
       "    <tr>\n",
       "      <th>74180460</th>\n",
       "      <td>9</td>\n",
       "      <td>25759</td>\n",
       "      <td>1</td>\n",
       "      <td>5517</td>\n",
       "      <td>4528866</td>\n",
       "      <td>34226</td>\n",
       "      <td>4</td>\n",
       "      <td>37.04</td>\n",
       "      <td>0</td>\n",
       "      <td>0.00</td>\n",
       "      <td>4</td>\n",
       "    </tr>\n",
       "    <tr>\n",
       "      <th>74180461</th>\n",
       "      <td>9</td>\n",
       "      <td>25759</td>\n",
       "      <td>1</td>\n",
       "      <td>5517</td>\n",
       "      <td>4528866</td>\n",
       "      <td>45112</td>\n",
       "      <td>4</td>\n",
       "      <td>51.00</td>\n",
       "      <td>0</td>\n",
       "      <td>0.00</td>\n",
       "      <td>4</td>\n",
       "    </tr>\n",
       "    <tr>\n",
       "      <th>74180462</th>\n",
       "      <td>9</td>\n",
       "      <td>25759</td>\n",
       "      <td>1</td>\n",
       "      <td>5517</td>\n",
       "      <td>4547943</td>\n",
       "      <td>40217</td>\n",
       "      <td>3</td>\n",
       "      <td>26.94</td>\n",
       "      <td>3</td>\n",
       "      <td>26.94</td>\n",
       "      <td>0</td>\n",
       "    </tr>\n",
       "    <tr>\n",
       "      <th>74180463</th>\n",
       "      <td>9</td>\n",
       "      <td>25759</td>\n",
       "      <td>1</td>\n",
       "      <td>5517</td>\n",
       "      <td>4708097</td>\n",
       "      <td>43159</td>\n",
       "      <td>1</td>\n",
       "      <td>10.40</td>\n",
       "      <td>0</td>\n",
       "      <td>0.00</td>\n",
       "      <td>1</td>\n",
       "    </tr>\n",
       "  </tbody>\n",
       "</table>\n",
       "</div>"
      ],
      "text/plain": [
       "          Semana  Agencia_ID  Canal_ID  Ruta_SAK  Cliente_ID  Producto_ID  \\\n",
       "74180459       9       25759         1      5517     4528866        32873   \n",
       "74180460       9       25759         1      5517     4528866        34226   \n",
       "74180461       9       25759         1      5517     4528866        45112   \n",
       "74180462       9       25759         1      5517     4547943        40217   \n",
       "74180463       9       25759         1      5517     4708097        43159   \n",
       "\n",
       "          Venta_uni_hoy  Venta_hoy  Dev_uni_proxima  Dev_proxima  \\\n",
       "74180459              4      27.76                0         0.00   \n",
       "74180460              4      37.04                0         0.00   \n",
       "74180461              4      51.00                0         0.00   \n",
       "74180462              3      26.94                3        26.94   \n",
       "74180463              1      10.40                0         0.00   \n",
       "\n",
       "          Demanda_uni_equil  \n",
       "74180459                  4  \n",
       "74180460                  4  \n",
       "74180461                  4  \n",
       "74180462                  0  \n",
       "74180463                  1  "
      ]
     },
     "execution_count": 16,
     "metadata": {},
     "output_type": "execute_result"
    }
   ],
   "source": [
    "df.tail(datosEntrenamiento)"
   ]
  },
  {
   "cell_type": "code",
   "execution_count": 17,
   "metadata": {
    "scrolled": true
   },
   "outputs": [
    {
     "name": "stdout",
     "output_type": "stream",
     "text": [
      "<class 'pandas.core.frame.DataFrame'>\n",
      "RangeIndex: 74180464 entries, 0 to 74180463\n",
      "Data columns (total 11 columns):\n",
      "Semana               int64\n",
      "Agencia_ID           int64\n",
      "Canal_ID             int64\n",
      "Ruta_SAK             int64\n",
      "Cliente_ID           int64\n",
      "Producto_ID          int64\n",
      "Venta_uni_hoy        int64\n",
      "Venta_hoy            float64\n",
      "Dev_uni_proxima      int64\n",
      "Dev_proxima          float64\n",
      "Demanda_uni_equil    int64\n",
      "dtypes: float64(2), int64(9)\n",
      "memory usage: 6.1 GB\n"
     ]
    }
   ],
   "source": [
    "df.info(datosEntrenamiento)"
   ]
  },
  {
   "cell_type": "markdown",
   "metadata": {},
   "source": [
    "<blockquote>\n",
    "  <p><strong>LIMPIEZA</strong></p>\n",
    "</blockquote> "
   ]
  },
  {
   "cell_type": "markdown",
   "metadata": {},
   "source": [
    "<p>Como vemos los datos de nombre del producto y agencia estan en tablas separadas, por lo tanto realizaremos la unión de las mismas y seleccionaremos el dataset con el cual vamos a trabajar para responder los questionamientos de nuestro análisis.</p>"
   ]
  },
  {
   "cell_type": "markdown",
   "metadata": {},
   "source": [
    "```pig\n",
    "--CARGAMOS FUENTE DE DATOS PRINCIPAL\n",
    "datasetEntrenamiento = LOAD '/user/cloudera/CIMAT/PROYECTO_BIMBO/train.csv' \n",
    "using PigStorage(',') \n",
    "as (Semana:int, Agencia_ID:int, Canal_ID:int, Ruta_SAK:int, \n",
    "    Cliente_ID:int, Producto_ID:int, \n",
    "    Venta_uni_hoy:long, Venta_hoy:double, Dev_uni_proxima:long, \n",
    "    Dev_proxima:double, Demanda_uni_equil:int\n",
    ");\n",
    "--CARGAMOS LA FUENTE DE DATOS DEL CATALOGO DE AGENCIAS\n",
    "datasetAgencias = LOAD '/user/cloudera/CIMAT/PROYECTO_BIMBO/town_state.csv' \n",
    "using PigStorage(',')\n",
    "as (Agencia_ID:int, Town:chararray, State:chararray);\n",
    "--CARGAMOS LA FUENTE DE DATOS DEL CATALOGO DE PRODUCTOS\n",
    "datasetProductos = LOAD '/user/cloudera/CIMAT/PROYECTO_BIMBO/producto_tabla.csv' \n",
    "using PigStorage(',')\n",
    "as (Producto_ID:int, NombreProducto:chararray);\n",
    "--UNIMOS LOS DATASET DE ENTRENAMIENTO Y AGENCIAS\n",
    "joinedAgencia = join datasetEntrenamiento by Agencia_ID, datasetAgencias by Agencia_ID;\n",
    "--UNIMOS LOS DATOS joinedAgencia CON PRODUCTOS\n",
    "joinedProductos = join joinedAgencia by datasetEntrenamiento::Producto_ID, datasetProductos by Producto_ID;\n",
    "--SELECCIONAMOS LOS DATOS QUE SE REQUIEREN\n",
    "datos = FOREACH joinedProductos GENERATE \n",
    "datasetEntrenamiento::Cliente_ID as id_cliente,\n",
    "datasetEntrenamiento::Semana as semana,\n",
    "joinedAgencia::datasetAgencias::Agencia_ID as id_agencia,\n",
    "joinedAgencia::datasetAgencias::State as estado,\n",
    "joinedAgencia::datasetEntrenamiento::Producto_ID as id_producto,\n",
    "datasetProductos::NombreProducto as producto,\n",
    "joinedAgencia::datasetEntrenamiento::Venta_uni_hoy as venta_uni_hoy,\n",
    "joinedAgencia::datasetEntrenamiento::Venta_hoy as venta_hoy,\n",
    "joinedAgencia::datasetEntrenamiento::Dev_uni_proxima as dev_uni_proxima,\n",
    "joinedAgencia::datasetEntrenamiento::Dev_proxima as Dev_proxima;\n",
    "--AGRUPAMOS LOS DATOS\n",
    "datosAgrupados = GROUP datos BY (id_cliente,semana,id_agencia,id_producto);\n",
    "--OBTENER DATOS PARA PROCESAR \n",
    "datosProcesar = FOREACH datosAgrupados GENERATE FLATTEN(datos);\n",
    "--ESCRIBIMOS LOS DATOS DENTRO DEL ARCHIVO DE datos_bimbo\n",
    "store datosProcesar into '/user/cloudera/CIMAT/PROYECTO_BIMBO/csvsalida' using PigStorage(',','-schema');\n",
    "```\n"
   ]
  },
  {
   "cell_type": "markdown",
   "metadata": {},
   "source": [
    "<p>Creamos la salida en formato csv</p>\n",
    "```bash\n",
    "hadoop fs -rm  /user/cloudera/CIMAT/PROYECTO_BIMBO/csvsalida/.pig_schema\n",
    "hadoop fs -getmerge  /user/cloudera/CIMAT/PROYECTO_BIMBO/csvsalida ./outputBimbo.csv\n",
    "```"
   ]
  },
  {
   "cell_type": "markdown",
   "metadata": {},
   "source": [
    "<blockquote>\n",
    "  <p><strong>PROCESAMIENTO</strong></p>\n",
    "</blockquote>"
   ]
  },
  {
   "cell_type": "markdown",
   "metadata": {},
   "source": [
    "Realizaremos las operaciones necesarias para obtener el conjunto de datos requerido"
   ]
  },
  {
   "cell_type": "markdown",
   "metadata": {},
   "source": [
    "``` pig\n",
    "--CARGAMOS FUENTE DE DATOS \n",
    "datosFuente = LOAD '/user/cloudera/CIMAT/PROYECTO_BIMBO/outputBimbo.csv' \n",
    "using PigStorage(',');\n",
    "--ASIGNAMOS NOMBRE Y TIPO A LAS COLUMNAS DE LA FUENTE DE DATOS\n",
    "datosProcesar = FOREACH datosFuente GENERATE \n",
    "(int)$0 AS cliente,  \n",
    "(int)$1 AS semana,\n",
    "(int)$2 AS id_agencia,\n",
    "(chararray)$3 AS estado,\n",
    "(int)$4 AS id_producto,\n",
    "(chararray)$5 AS producto,\n",
    "(long)$6 AS venta_uni_hoy,\n",
    "(double)$7 AS venta_hoy,\n",
    "(long)$8 AS dev_uni_proxima,\n",
    "(double)$9 AS Dev_proxima\n",
    ";\n",
    "--1.Demanda de cantidad de producto por semana\n",
    "--AGRUPAMOS LA INFORMACION POR SEMANA\n",
    "agrupados_semana = GROUP datosProcesar BY semana;\n",
    "--REALIZAMOS LA SUMA DE LAS VENTAS POR SEMANA\n",
    "demanda_semana = FOREACH agrupados_semana GENERATE \n",
    "                    group as semana, \n",
    "                    SUM(datosProcesar.venta_uni_hoy) as ventas, \n",
    "                    SUM(datosProcesar.dev_uni_proxima) as devoluciones;\n",
    "ordenar_demanda_semana = ORDER demanda_semana BY semana asc;\n",
    "\n",
    "--2.Distribucion de ventas en Mexico\n",
    "--AGRUPAMOS LA INFORMACION POR ESTADO\n",
    "agrupar_estado = GROUP datosProcesar BY estado;\n",
    "--REALIZAMOS LA SUMA DE VENTAS POR ESTADO\n",
    "analisis_estado = FOREACH agrupar_estado GENERATE group as estado, SUM(datosProcesar.venta_hoy) as montoVenta, SUM(datosProcesar.Dev_proxima) as montoDevolucion;\n",
    "--ORDENAMOS POR LA CANTIDAD MAYOR\n",
    "ordenarEstado = ORDER analisis_estado BY montoVenta asc;\n",
    "\n",
    "--3.Tendencias de los consumidores en Mexico\n",
    "--AGRUPAMOS LA INFORMACION POR PRODUCTO\n",
    "agrupar_producto = GROUP datosProcesar BY producto;\n",
    "--REALIZAMOS LA SUMA DE LA CANTIDAD POR MES Y PRODUCTO\n",
    "ventas_producto = FOREACH agrupar_producto GENERATE group, SUM(datosProcesar.venta_uni_hoy) as totalProducto;\n",
    "--ORDENAMOS POR LA CANTIDAD MAYOR\n",
    "ordenarProducto = ORDER ventas_producto BY totalProducto desc;\n",
    "--SELECCIONAMOS LOS PRIMEROS 10\n",
    "topProductos = LIMIT ordenarProducto 10;\n",
    "\n",
    "--4.Ventas por semana\n",
    "--AGRUPAMOS LA INFORMACION POR SEMANA\n",
    "agrupados_semana = GROUP datosProcesar BY semana;\n",
    "--OBTENEMOS LAS VENTAS Y DEVOLUCIONES POR SEMANA\n",
    "ventas_semana = FOREACH agrupados_semana GENERATE group, SUM(datosProcesar.venta_hoy) as ventas, SUM(datosProcesar.Dev_proxima) as devolucion;\n",
    "ordenar_ventas_semana = ORDER ventas_semana BY group desc;\n",
    "\n",
    "\n",
    "\n",
    "\n",
    "--ESCRIBIMOS LOS RESULTADOS A UN ARCHIVO\n",
    "store ordenar_demanda_semana into '/user/cloudera/CIMAT/PROYECTO_BIMBO/RESULTADOS/demanda' using PigStorage(',','-schema');\n",
    "store ordenarEstado into '/user/cloudera/CIMAT/PROYECTO_BIMBO/RESULTADOS/estado' using PigStorage(',','-schema');\n",
    "store topProductos into '/user/cloudera/CIMAT/PROYECTO_BIMBO/RESULTADOS/producto' using PigStorage(',','-schema');\n",
    "store ordenar_ventas_semana into '/user/cloudera/CIMAT/PROYECTO_BIMBO/RESULTADOS/ventas_semana' using PigStorage(',','-schema');\n",
    "\n",
    "```"
   ]
  },
  {
   "cell_type": "markdown",
   "metadata": {},
   "source": [
    "```bash\n",
    "hadoop fs -rm  /user/cloudera/CIMAT/PROYECTO_BIMBO/RESULTADOS/demanda/.pig_schema\n",
    "hadoop fs -getmerge  /user/cloudera/CIMAT/RESULTADOS/PROYECTO_BIMBO/RESULTADOS/demanda ./outputDemanda.csv\n",
    "\n",
    "hadoop fs -rm  /user/cloudera/CIMAT/PROYECTO_BIMBO/RESULTADOS/estado/.pig_schema\n",
    "hadoop fs -getmerge  /user/cloudera/CIMAT/RESULTADOS/PROYECTO_BIMBO/estado ./outputEstado.csv\n",
    "\n",
    "hadoop fs -rm  /user/cloudera/CIMAT/PROYECTO_BIMBO/RESULTADOS/producto/.pig_schema\n",
    "hadoop fs -getmerge  /user/cloudera/CIMAT/RESULTADOS/PROYECTO_BIMBO/producto ./outputProducto.csv\n",
    "\n",
    "hadoop fs -rm  /user/cloudera/CIMAT/PROYECTO_BIMBO/RESULTADOS/ventas_semana/.pig_schema\n",
    "hadoop fs -getmerge  /user/cloudera/CIMAT/RESULTADOS/PROYECTO_BIMBO/ventas_semana ./outputVentas.csv\n",
    "```"
   ]
  },
  {
   "cell_type": "markdown",
   "metadata": {},
   "source": [
    "<blockquote>\n",
    "  <p><strong>VIZUALIZACIÓN</strong></p>\n",
    "</blockquote>"
   ]
  },
  {
   "cell_type": "code",
   "execution_count": 18,
   "metadata": {
    "collapsed": true
   },
   "outputs": [],
   "source": [
    "outputBimbo = pd.read_csv('DATASET_BIMBO/outputBimbo.csv')"
   ]
  },
  {
   "cell_type": "code",
   "execution_count": 19,
   "metadata": {},
   "outputs": [
    {
     "data": {
      "text/html": [
       "<div>\n",
       "<style>\n",
       "    .dataframe thead tr:only-child th {\n",
       "        text-align: right;\n",
       "    }\n",
       "\n",
       "    .dataframe thead th {\n",
       "        text-align: left;\n",
       "    }\n",
       "\n",
       "    .dataframe tbody tr th {\n",
       "        vertical-align: top;\n",
       "    }\n",
       "</style>\n",
       "<table border=\"1\" class=\"dataframe\">\n",
       "  <thead>\n",
       "    <tr style=\"text-align: right;\">\n",
       "      <th></th>\n",
       "      <th>datos::id_cliente</th>\n",
       "      <th>datos::semana</th>\n",
       "      <th>datos::id_agencia</th>\n",
       "      <th>datos::estado</th>\n",
       "      <th>datos::id_producto</th>\n",
       "      <th>datos::producto</th>\n",
       "      <th>datos::venta_uni_hoy</th>\n",
       "      <th>datos::venta_hoy</th>\n",
       "      <th>datos::dev_uni_proxima</th>\n",
       "      <th>datos::Dev_proxima</th>\n",
       "    </tr>\n",
       "  </thead>\n",
       "  <tbody>\n",
       "    <tr>\n",
       "      <th>37993379</th>\n",
       "      <td>107</td>\n",
       "      <td>8</td>\n",
       "      <td>2061</td>\n",
       "      <td>ESTADO DE MÉXICO</td>\n",
       "      <td>47886</td>\n",
       "      <td>Pinguinos 3p 120g Prom MTA MLA 47886</td>\n",
       "      <td>16</td>\n",
       "      <td>204.80</td>\n",
       "      <td>0</td>\n",
       "      <td>0.0</td>\n",
       "    </tr>\n",
       "    <tr>\n",
       "      <th>37993380</th>\n",
       "      <td>107</td>\n",
       "      <td>9</td>\n",
       "      <td>2061</td>\n",
       "      <td>ESTADO DE MÉXICO</td>\n",
       "      <td>34206</td>\n",
       "      <td>Medias Noches 8p 340g TNB BIM 34206</td>\n",
       "      <td>45</td>\n",
       "      <td>664.20</td>\n",
       "      <td>20</td>\n",
       "      <td>295.2</td>\n",
       "    </tr>\n",
       "    <tr>\n",
       "      <th>37993381</th>\n",
       "      <td>107</td>\n",
       "      <td>9</td>\n",
       "      <td>2061</td>\n",
       "      <td>ESTADO DE MÉXICO</td>\n",
       "      <td>34794</td>\n",
       "      <td>Super Bollos 5in 8p 540g TNB WON 34794</td>\n",
       "      <td>24</td>\n",
       "      <td>521.52</td>\n",
       "      <td>0</td>\n",
       "      <td>0.0</td>\n",
       "    </tr>\n",
       "    <tr>\n",
       "      <th>37993382</th>\n",
       "      <td>107</td>\n",
       "      <td>9</td>\n",
       "      <td>2061</td>\n",
       "      <td>ESTADO DE MÉXICO</td>\n",
       "      <td>36250</td>\n",
       "      <td>Tostada Ondulada Tubo 32p 384g MR 36250</td>\n",
       "      <td>36</td>\n",
       "      <td>594.00</td>\n",
       "      <td>0</td>\n",
       "      <td>0.0</td>\n",
       "    </tr>\n",
       "    <tr>\n",
       "      <th>37993383</th>\n",
       "      <td>107</td>\n",
       "      <td>9</td>\n",
       "      <td>2061</td>\n",
       "      <td>ESTADO DE MÉXICO</td>\n",
       "      <td>43173</td>\n",
       "      <td>Pan 12 Granos 680g MTA ORO 43173</td>\n",
       "      <td>9</td>\n",
       "      <td>280.80</td>\n",
       "      <td>0</td>\n",
       "      <td>0.0</td>\n",
       "    </tr>\n",
       "  </tbody>\n",
       "</table>\n",
       "</div>"
      ],
      "text/plain": [
       "          datos::id_cliente  datos::semana  datos::id_agencia  \\\n",
       "37993379                107              8               2061   \n",
       "37993380                107              9               2061   \n",
       "37993381                107              9               2061   \n",
       "37993382                107              9               2061   \n",
       "37993383                107              9               2061   \n",
       "\n",
       "             datos::estado  datos::id_producto  \\\n",
       "37993379  ESTADO DE MÉXICO               47886   \n",
       "37993380  ESTADO DE MÉXICO               34206   \n",
       "37993381  ESTADO DE MÉXICO               34794   \n",
       "37993382  ESTADO DE MÉXICO               36250   \n",
       "37993383  ESTADO DE MÉXICO               43173   \n",
       "\n",
       "                                  datos::producto  datos::venta_uni_hoy  \\\n",
       "37993379     Pinguinos 3p 120g Prom MTA MLA 47886                    16   \n",
       "37993380      Medias Noches 8p 340g TNB BIM 34206                    45   \n",
       "37993381   Super Bollos 5in 8p 540g TNB WON 34794                    24   \n",
       "37993382  Tostada Ondulada Tubo 32p 384g MR 36250                    36   \n",
       "37993383         Pan 12 Granos 680g MTA ORO 43173                     9   \n",
       "\n",
       "          datos::venta_hoy  datos::dev_uni_proxima  datos::Dev_proxima  \n",
       "37993379            204.80                       0                 0.0  \n",
       "37993380            664.20                      20               295.2  \n",
       "37993381            521.52                       0                 0.0  \n",
       "37993382            594.00                       0                 0.0  \n",
       "37993383            280.80                       0                 0.0  "
      ]
     },
     "execution_count": 19,
     "metadata": {},
     "output_type": "execute_result"
    }
   ],
   "source": [
    "df.tail(outputBimbo)"
   ]
  },
  {
   "cell_type": "code",
   "execution_count": 20,
   "metadata": {},
   "outputs": [
    {
     "name": "stdout",
     "output_type": "stream",
     "text": [
      "<class 'pandas.core.frame.DataFrame'>\n",
      "RangeIndex: 37993384 entries, 0 to 37993383\n",
      "Data columns (total 10 columns):\n",
      "datos::id_cliente         int64\n",
      "datos::semana             int64\n",
      "datos::id_agencia         int64\n",
      "datos::estado             object\n",
      "datos::id_producto        int64\n",
      "datos::producto           object\n",
      "datos::venta_uni_hoy      int64\n",
      "datos::venta_hoy          float64\n",
      "datos::dev_uni_proxima    int64\n",
      "datos::Dev_proxima        float64\n",
      "dtypes: float64(2), int64(6), object(2)\n",
      "memory usage: 2.8+ GB\n"
     ]
    }
   ],
   "source": [
    "df.info(outputBimbo)"
   ]
  },
  {
   "cell_type": "markdown",
   "metadata": {},
   "source": [
    "- ### Demanda de cantidad de producto por semana."
   ]
  },
  {
   "cell_type": "code",
   "execution_count": 21,
   "metadata": {
    "collapsed": true
   },
   "outputs": [],
   "source": [
    "demanda = pd.read_csv('DATASET_BIMBO/RESULTADOS/outputDemanda.csv')"
   ]
  },
  {
   "cell_type": "code",
   "execution_count": 22,
   "metadata": {},
   "outputs": [
    {
     "data": {
      "text/html": [
       "<div>\n",
       "<style>\n",
       "    .dataframe thead tr:only-child th {\n",
       "        text-align: right;\n",
       "    }\n",
       "\n",
       "    .dataframe thead th {\n",
       "        text-align: left;\n",
       "    }\n",
       "\n",
       "    .dataframe tbody tr th {\n",
       "        vertical-align: top;\n",
       "    }\n",
       "</style>\n",
       "<table border=\"1\" class=\"dataframe\">\n",
       "  <thead>\n",
       "    <tr style=\"text-align: right;\">\n",
       "      <th></th>\n",
       "      <th>semana</th>\n",
       "      <th>ventas</th>\n",
       "      <th>devoluciones</th>\n",
       "    </tr>\n",
       "  </thead>\n",
       "  <tbody>\n",
       "    <tr>\n",
       "      <th>0</th>\n",
       "      <td>3</td>\n",
       "      <td>78519995</td>\n",
       "      <td>1286055</td>\n",
       "    </tr>\n",
       "    <tr>\n",
       "      <th>1</th>\n",
       "      <td>4</td>\n",
       "      <td>80509591</td>\n",
       "      <td>1372361</td>\n",
       "    </tr>\n",
       "    <tr>\n",
       "      <th>2</th>\n",
       "      <td>5</td>\n",
       "      <td>78450325</td>\n",
       "      <td>1220967</td>\n",
       "    </tr>\n",
       "    <tr>\n",
       "      <th>3</th>\n",
       "      <td>6</td>\n",
       "      <td>74753846</td>\n",
       "      <td>1321510</td>\n",
       "    </tr>\n",
       "    <tr>\n",
       "      <th>4</th>\n",
       "      <td>7</td>\n",
       "      <td>77548034</td>\n",
       "      <td>1417450</td>\n",
       "    </tr>\n",
       "    <tr>\n",
       "      <th>5</th>\n",
       "      <td>8</td>\n",
       "      <td>76497783</td>\n",
       "      <td>1452369</td>\n",
       "    </tr>\n",
       "    <tr>\n",
       "      <th>6</th>\n",
       "      <td>9</td>\n",
       "      <td>75991699</td>\n",
       "      <td>1641371</td>\n",
       "    </tr>\n",
       "  </tbody>\n",
       "</table>\n",
       "</div>"
      ],
      "text/plain": [
       "   semana    ventas  devoluciones\n",
       "0       3  78519995       1286055\n",
       "1       4  80509591       1372361\n",
       "2       5  78450325       1220967\n",
       "3       6  74753846       1321510\n",
       "4       7  77548034       1417450\n",
       "5       8  76497783       1452369\n",
       "6       9  75991699       1641371"
      ]
     },
     "execution_count": 22,
     "metadata": {},
     "output_type": "execute_result"
    }
   ],
   "source": [
    "demanda"
   ]
  },
  {
   "cell_type": "code",
   "execution_count": 23,
   "metadata": {},
   "outputs": [
    {
     "name": "stdout",
     "output_type": "stream",
     "text": [
      "Requirement already satisfied: plotly in /Users/karinachaires/anaconda/lib/python3.6/site-packages\n",
      "Requirement already satisfied: requests in /Users/karinachaires/anaconda/lib/python3.6/site-packages (from plotly)\n",
      "Requirement already satisfied: six in /Users/karinachaires/anaconda/lib/python3.6/site-packages (from plotly)\n",
      "Requirement already satisfied: pytz in /Users/karinachaires/anaconda/lib/python3.6/site-packages (from plotly)\n",
      "Requirement already satisfied: nbformat>=4.2 in /Users/karinachaires/anaconda/lib/python3.6/site-packages (from plotly)\n",
      "Requirement already satisfied: decorator>=4.0.6 in /Users/karinachaires/anaconda/lib/python3.6/site-packages (from plotly)\n",
      "Requirement already satisfied: pandas in /Users/karinachaires/anaconda/lib/python3.6/site-packages\n",
      "Requirement already satisfied: python-dateutil>=2 in /Users/karinachaires/anaconda/lib/python3.6/site-packages (from pandas)\n",
      "Requirement already satisfied: pytz>=2011k in /Users/karinachaires/anaconda/lib/python3.6/site-packages (from pandas)\n",
      "Requirement already satisfied: numpy>=1.7.0 in /Users/karinachaires/anaconda/lib/python3.6/site-packages (from pandas)\n",
      "Requirement already satisfied: six>=1.5 in /Users/karinachaires/anaconda/lib/python3.6/site-packages (from python-dateutil>=2->pandas)\n"
     ]
    }
   ],
   "source": [
    "!pip install plotly\n",
    "!pip install pandas"
   ]
  },
  {
   "cell_type": "code",
   "execution_count": 34,
   "metadata": {},
   "outputs": [
    {
     "data": {
      "text/html": [
       "<script>requirejs.config({paths: { 'plotly': ['https://cdn.plot.ly/plotly-latest.min']},});if(!window.Plotly) {{require(['plotly'],function(plotly) {window.Plotly=plotly;});}}</script>"
      ],
      "text/vnd.plotly.v1+html": [
       "<script>requirejs.config({paths: { 'plotly': ['https://cdn.plot.ly/plotly-latest.min']},});if(!window.Plotly) {{require(['plotly'],function(plotly) {window.Plotly=plotly;});}}</script>"
      ]
     },
     "metadata": {},
     "output_type": "display_data"
    },
    {
     "data": {
      "text/html": [
       "<iframe id=\"igraph\" scrolling=\"no\" style=\"border:none;\" seamless=\"seamless\" src=\"https://plot.ly/~karina.chaires/2.embed\" height=\"525px\" width=\"100%\"></iframe>"
      ],
      "text/plain": [
       "<plotly.tools.PlotlyDisplay object>"
      ]
     },
     "execution_count": 34,
     "metadata": {},
     "output_type": "execute_result"
    }
   ],
   "source": [
    "import plotly.plotly as py\n",
    "import plotly.graph_objs as go\n",
    "import plotly\n",
    "\n",
    "plotly.offline.init_notebook_mode(connected=True)\n",
    "trace1 = go.Bar(\n",
    "    y = demanda['semana'],\n",
    "    x = demanda['ventas'],\n",
    "    name='Unidades vendidadas',\n",
    "    orientation = 'h',\n",
    "    marker = dict(\n",
    "        color = 'rgba(0,128,255,0.8)',\n",
    "        line = dict(\n",
    "            color = 'rgba(0,128,255,1.0)',\n",
    "            width = 3)\n",
    "    )\n",
    ")\n",
    "\n",
    "trace2 = go.Bar(\n",
    "    y= demanda['semana'],\n",
    "    x = demanda['devoluciones'],\n",
    "    name='Devoluciones',\n",
    "    orientation = 'h',\n",
    "\n",
    "    marker = dict(\n",
    "        color = 'rgba(255,64,0,0.7)',\n",
    "        line = dict(\n",
    "            color = 'rgba(255,64,0,0.8)',\n",
    "            width = 3)\n",
    "    )\n",
    ")\n",
    "\n",
    "data = [trace1, trace2]\n",
    "layout = go.Layout(\n",
    "    barmode='stack',\n",
    "    title='Demanda de cantidad de producto por semana',\n",
    ")\n",
    "\n",
    "fig = go.Figure(data=data, layout=layout)\n",
    "py.iplot(fig, filename='marker-h-bar')"
   ]
  },
  {
   "cell_type": "markdown",
   "metadata": {
    "collapsed": true
   },
   "source": [
    "- ### Distribución de ventas en México"
   ]
  },
  {
   "cell_type": "code",
   "execution_count": 25,
   "metadata": {},
   "outputs": [],
   "source": [
    "estado = pd.read_csv('DATASET_BIMBO/RESULTADOS/outputEstados.csv', encoding = \"UTF-8\")"
   ]
  },
  {
   "cell_type": "code",
   "execution_count": 26,
   "metadata": {},
   "outputs": [
    {
     "data": {
      "text/html": [
       "<div>\n",
       "<style>\n",
       "    .dataframe thead tr:only-child th {\n",
       "        text-align: right;\n",
       "    }\n",
       "\n",
       "    .dataframe thead th {\n",
       "        text-align: left;\n",
       "    }\n",
       "\n",
       "    .dataframe tbody tr th {\n",
       "        vertical-align: top;\n",
       "    }\n",
       "</style>\n",
       "<table border=\"1\" class=\"dataframe\">\n",
       "  <thead>\n",
       "    <tr style=\"text-align: right;\">\n",
       "      <th></th>\n",
       "      <th>estado</th>\n",
       "      <th>montoVenta</th>\n",
       "      <th>montoDevolucion</th>\n",
       "    </tr>\n",
       "  </thead>\n",
       "  <tbody>\n",
       "    <tr>\n",
       "      <th>0</th>\n",
       "      <td>TLAXCALA</td>\n",
       "      <td>2.582022e+07</td>\n",
       "      <td>703995.72</td>\n",
       "    </tr>\n",
       "    <tr>\n",
       "      <th>1</th>\n",
       "      <td>BAJA CALIFORNIA SUR</td>\n",
       "      <td>4.087758e+07</td>\n",
       "      <td>904874.03</td>\n",
       "    </tr>\n",
       "    <tr>\n",
       "      <th>2</th>\n",
       "      <td>COLIMA</td>\n",
       "      <td>4.635648e+07</td>\n",
       "      <td>879586.40</td>\n",
       "    </tr>\n",
       "    <tr>\n",
       "      <th>3</th>\n",
       "      <td>CAMPECHE</td>\n",
       "      <td>4.868887e+07</td>\n",
       "      <td>1116463.81</td>\n",
       "    </tr>\n",
       "    <tr>\n",
       "      <th>4</th>\n",
       "      <td>NAYARIT</td>\n",
       "      <td>4.876072e+07</td>\n",
       "      <td>834741.61</td>\n",
       "    </tr>\n",
       "    <tr>\n",
       "      <th>5</th>\n",
       "      <td>ZACATECAS</td>\n",
       "      <td>5.071910e+07</td>\n",
       "      <td>894605.59</td>\n",
       "    </tr>\n",
       "    <tr>\n",
       "      <th>6</th>\n",
       "      <td>QUERETARO</td>\n",
       "      <td>5.280720e+07</td>\n",
       "      <td>1223301.42</td>\n",
       "    </tr>\n",
       "    <tr>\n",
       "      <th>7</th>\n",
       "      <td>DURANGO</td>\n",
       "      <td>5.769564e+07</td>\n",
       "      <td>749864.94</td>\n",
       "    </tr>\n",
       "    <tr>\n",
       "      <th>8</th>\n",
       "      <td>AGUASCALIENTES</td>\n",
       "      <td>7.692675e+07</td>\n",
       "      <td>1140637.99</td>\n",
       "    </tr>\n",
       "    <tr>\n",
       "      <th>9</th>\n",
       "      <td>CHIAPAS</td>\n",
       "      <td>7.748754e+07</td>\n",
       "      <td>1741847.84</td>\n",
       "    </tr>\n",
       "    <tr>\n",
       "      <th>10</th>\n",
       "      <td>MORELOS</td>\n",
       "      <td>7.918993e+07</td>\n",
       "      <td>1714763.60</td>\n",
       "    </tr>\n",
       "    <tr>\n",
       "      <th>11</th>\n",
       "      <td>YUCATÁN</td>\n",
       "      <td>7.980407e+07</td>\n",
       "      <td>1351254.11</td>\n",
       "    </tr>\n",
       "    <tr>\n",
       "      <th>12</th>\n",
       "      <td>SAN LUIS POTOSÍ</td>\n",
       "      <td>8.228387e+07</td>\n",
       "      <td>1695026.46</td>\n",
       "    </tr>\n",
       "    <tr>\n",
       "      <th>13</th>\n",
       "      <td>QUINTANA ROO</td>\n",
       "      <td>8.558152e+07</td>\n",
       "      <td>939832.63</td>\n",
       "    </tr>\n",
       "    <tr>\n",
       "      <th>14</th>\n",
       "      <td>OAXACA</td>\n",
       "      <td>8.997608e+07</td>\n",
       "      <td>1644554.25</td>\n",
       "    </tr>\n",
       "    <tr>\n",
       "      <th>15</th>\n",
       "      <td>GUERRERO</td>\n",
       "      <td>9.542924e+07</td>\n",
       "      <td>1922604.83</td>\n",
       "    </tr>\n",
       "    <tr>\n",
       "      <th>16</th>\n",
       "      <td>TABASCO</td>\n",
       "      <td>1.059982e+08</td>\n",
       "      <td>1462212.19</td>\n",
       "    </tr>\n",
       "    <tr>\n",
       "      <th>17</th>\n",
       "      <td>HIDALGO</td>\n",
       "      <td>1.145020e+08</td>\n",
       "      <td>2562252.93</td>\n",
       "    </tr>\n",
       "    <tr>\n",
       "      <th>18</th>\n",
       "      <td>SINALOA</td>\n",
       "      <td>1.226727e+08</td>\n",
       "      <td>2052513.55</td>\n",
       "    </tr>\n",
       "    <tr>\n",
       "      <th>19</th>\n",
       "      <td>SONORA</td>\n",
       "      <td>1.346749e+08</td>\n",
       "      <td>2785184.47</td>\n",
       "    </tr>\n",
       "    <tr>\n",
       "      <th>20</th>\n",
       "      <td>COAHUILA</td>\n",
       "      <td>1.376508e+08</td>\n",
       "      <td>3276723.82</td>\n",
       "    </tr>\n",
       "    <tr>\n",
       "      <th>21</th>\n",
       "      <td>TAMAULIPAS</td>\n",
       "      <td>1.539880e+08</td>\n",
       "      <td>3300895.24</td>\n",
       "    </tr>\n",
       "    <tr>\n",
       "      <th>22</th>\n",
       "      <td>CHIHUAHUA</td>\n",
       "      <td>1.558250e+08</td>\n",
       "      <td>4344190.35</td>\n",
       "    </tr>\n",
       "    <tr>\n",
       "      <th>23</th>\n",
       "      <td>BAJA CALIFORNIA NORTE</td>\n",
       "      <td>1.640340e+08</td>\n",
       "      <td>2656839.32</td>\n",
       "    </tr>\n",
       "    <tr>\n",
       "      <th>24</th>\n",
       "      <td>MICHOACÁN</td>\n",
       "      <td>1.791714e+08</td>\n",
       "      <td>3455910.31</td>\n",
       "    </tr>\n",
       "    <tr>\n",
       "      <th>25</th>\n",
       "      <td>PUEBLA</td>\n",
       "      <td>2.267459e+08</td>\n",
       "      <td>4189643.29</td>\n",
       "    </tr>\n",
       "    <tr>\n",
       "      <th>26</th>\n",
       "      <td>GUANAJUATO</td>\n",
       "      <td>2.416686e+08</td>\n",
       "      <td>4447663.35</td>\n",
       "    </tr>\n",
       "    <tr>\n",
       "      <th>27</th>\n",
       "      <td>VERACRUZ</td>\n",
       "      <td>2.595685e+08</td>\n",
       "      <td>4490482.41</td>\n",
       "    </tr>\n",
       "    <tr>\n",
       "      <th>28</th>\n",
       "      <td>NUEVO LEÓN</td>\n",
       "      <td>2.863442e+08</td>\n",
       "      <td>5252756.78</td>\n",
       "    </tr>\n",
       "    <tr>\n",
       "      <th>29</th>\n",
       "      <td>JALISCO</td>\n",
       "      <td>4.297037e+08</td>\n",
       "      <td>7840476.15</td>\n",
       "    </tr>\n",
       "    <tr>\n",
       "      <th>30</th>\n",
       "      <td>MÉXICO</td>\n",
       "      <td>6.414208e+08</td>\n",
       "      <td>9808764.44</td>\n",
       "    </tr>\n",
       "    <tr>\n",
       "      <th>31</th>\n",
       "      <td>ESTADO DE MÉXICO</td>\n",
       "      <td>6.922905e+08</td>\n",
       "      <td>10840259.50</td>\n",
       "    </tr>\n",
       "  </tbody>\n",
       "</table>\n",
       "</div>"
      ],
      "text/plain": [
       "                   estado    montoVenta  montoDevolucion\n",
       "0                TLAXCALA  2.582022e+07        703995.72\n",
       "1     BAJA CALIFORNIA SUR  4.087758e+07        904874.03\n",
       "2                  COLIMA  4.635648e+07        879586.40\n",
       "3                CAMPECHE  4.868887e+07       1116463.81\n",
       "4                 NAYARIT  4.876072e+07        834741.61\n",
       "5               ZACATECAS  5.071910e+07        894605.59\n",
       "6               QUERETARO  5.280720e+07       1223301.42\n",
       "7                 DURANGO  5.769564e+07        749864.94\n",
       "8          AGUASCALIENTES  7.692675e+07       1140637.99\n",
       "9                 CHIAPAS  7.748754e+07       1741847.84\n",
       "10                MORELOS  7.918993e+07       1714763.60\n",
       "11                YUCATÁN  7.980407e+07       1351254.11\n",
       "12        SAN LUIS POTOSÍ  8.228387e+07       1695026.46\n",
       "13           QUINTANA ROO  8.558152e+07        939832.63\n",
       "14                 OAXACA  8.997608e+07       1644554.25\n",
       "15               GUERRERO  9.542924e+07       1922604.83\n",
       "16                TABASCO  1.059982e+08       1462212.19\n",
       "17                HIDALGO  1.145020e+08       2562252.93\n",
       "18                SINALOA  1.226727e+08       2052513.55\n",
       "19                 SONORA  1.346749e+08       2785184.47\n",
       "20               COAHUILA  1.376508e+08       3276723.82\n",
       "21             TAMAULIPAS  1.539880e+08       3300895.24\n",
       "22              CHIHUAHUA  1.558250e+08       4344190.35\n",
       "23  BAJA CALIFORNIA NORTE  1.640340e+08       2656839.32\n",
       "24              MICHOACÁN  1.791714e+08       3455910.31\n",
       "25                 PUEBLA  2.267459e+08       4189643.29\n",
       "26             GUANAJUATO  2.416686e+08       4447663.35\n",
       "27               VERACRUZ  2.595685e+08       4490482.41\n",
       "28             NUEVO LEÓN  2.863442e+08       5252756.78\n",
       "29                JALISCO  4.297037e+08       7840476.15\n",
       "30                 MÉXICO  6.414208e+08       9808764.44\n",
       "31       ESTADO DE MÉXICO  6.922905e+08      10840259.50"
      ]
     },
     "execution_count": 26,
     "metadata": {},
     "output_type": "execute_result"
    }
   ],
   "source": [
    "estado"
   ]
  },
  {
   "cell_type": "code",
   "execution_count": 43,
   "metadata": {},
   "outputs": [
    {
     "data": {
      "text/html": [
       "<script>requirejs.config({paths: { 'plotly': ['https://cdn.plot.ly/plotly-latest.min']},});if(!window.Plotly) {{require(['plotly'],function(plotly) {window.Plotly=plotly;});}}</script>"
      ],
      "text/vnd.plotly.v1+html": [
       "<script>requirejs.config({paths: { 'plotly': ['https://cdn.plot.ly/plotly-latest.min']},});if(!window.Plotly) {{require(['plotly'],function(plotly) {window.Plotly=plotly;});}}</script>"
      ]
     },
     "metadata": {},
     "output_type": "display_data"
    },
    {
     "data": {
      "text/html": [
       "<iframe id=\"igraph\" scrolling=\"no\" style=\"border:none;\" seamless=\"seamless\" src=\"https://plot.ly/~karina.chaires/4.embed\" height=\"525px\" width=\"100%\"></iframe>"
      ],
      "text/plain": [
       "<plotly.tools.PlotlyDisplay object>"
      ]
     },
     "execution_count": 43,
     "metadata": {},
     "output_type": "execute_result"
    }
   ],
   "source": [
    "import plotly.graph_objs as go\n",
    "plotly.offline.init_notebook_mode(connected=True)\n",
    "from plotly.graph_objs import Scatter, Layout\n",
    "\n",
    "\n",
    "# Create traces\n",
    "trace0 = go.Scatter(\n",
    "    x = estado['estado'],\n",
    "    y = estado['montoVenta'],\n",
    "    mode = 'lines',\n",
    "    name = 'Ventas'\n",
    ")\n",
    "trace1 = go.Scatter(\n",
    "    x = estado['estado'],\n",
    "    y = estado['montoDevolucion'],\n",
    "    mode = 'lines+markers',\n",
    "    name = 'Devoluciones'\n",
    ")\n",
    "\n",
    "\n",
    "data = [trace0, trace1]\n",
    "layout = go.Layout(\n",
    "    title='Distribución de ventas en México',\n",
    "    margin=go.Margin(\n",
    "        l=50,\n",
    "        r=50,\n",
    "        b=152,\n",
    "        t=50,\n",
    "        pad=4\n",
    "    ),\n",
    ")\n",
    "fig = go.Figure(data=data, layout=layout)\n",
    "py.iplot(fig, filename='scatter-mode')"
   ]
  },
  {
   "cell_type": "markdown",
   "metadata": {},
   "source": [
    "- ### Tendencias de los consumidores en México"
   ]
  },
  {
   "cell_type": "code",
   "execution_count": 28,
   "metadata": {
    "collapsed": true
   },
   "outputs": [],
   "source": [
    "productos = pd.read_csv('DATASET_BIMBO/RESULTADOS/outputProducto.csv')"
   ]
  },
  {
   "cell_type": "code",
   "execution_count": 29,
   "metadata": {
    "scrolled": true
   },
   "outputs": [
    {
     "data": {
      "text/html": [
       "<div>\n",
       "<style>\n",
       "    .dataframe thead tr:only-child th {\n",
       "        text-align: right;\n",
       "    }\n",
       "\n",
       "    .dataframe thead th {\n",
       "        text-align: left;\n",
       "    }\n",
       "\n",
       "    .dataframe tbody tr th {\n",
       "        vertical-align: top;\n",
       "    }\n",
       "</style>\n",
       "<table border=\"1\" class=\"dataframe\">\n",
       "  <thead>\n",
       "    <tr style=\"text-align: right;\">\n",
       "      <th></th>\n",
       "      <th>group</th>\n",
       "      <th>totalProducto</th>\n",
       "    </tr>\n",
       "  </thead>\n",
       "  <tbody>\n",
       "    <tr>\n",
       "      <th>0</th>\n",
       "      <td>Polvoroncitos Panera 40p 16 25g TR 45143</td>\n",
       "      <td>10062825</td>\n",
       "    </tr>\n",
       "    <tr>\n",
       "      <th>1</th>\n",
       "      <td>Donitas Espolvoreadas 6p 105g BIM 1242</td>\n",
       "      <td>10469784</td>\n",
       "    </tr>\n",
       "    <tr>\n",
       "      <th>2</th>\n",
       "      <td>Pan Blanco 640g BIM 2233</td>\n",
       "      <td>11204506</td>\n",
       "    </tr>\n",
       "    <tr>\n",
       "      <th>3</th>\n",
       "      <td>Donas Azucar 4p 105g BIM 1250</td>\n",
       "      <td>12158850</td>\n",
       "    </tr>\n",
       "    <tr>\n",
       "      <th>4</th>\n",
       "      <td>Mantecadas Vainilla 4p 125g BIM 1240</td>\n",
       "      <td>12313013</td>\n",
       "    </tr>\n",
       "    <tr>\n",
       "      <th>5</th>\n",
       "      <td>Bolsa Mini Rocko 40p 13g CU MLA 36610</td>\n",
       "      <td>12836368</td>\n",
       "    </tr>\n",
       "    <tr>\n",
       "      <th>6</th>\n",
       "      <td>Gansito 1p 50g MTB MLA 43285</td>\n",
       "      <td>15259452</td>\n",
       "    </tr>\n",
       "    <tr>\n",
       "      <th>7</th>\n",
       "      <td>Rebanada 2p 55g BIM 1284</td>\n",
       "      <td>19625219</td>\n",
       "    </tr>\n",
       "    <tr>\n",
       "      <th>8</th>\n",
       "      <td>Nito 1p 62g BIM 1278</td>\n",
       "      <td>19660668</td>\n",
       "    </tr>\n",
       "    <tr>\n",
       "      <th>9</th>\n",
       "      <td>Nito 1p 62g Central BIM 2425</td>\n",
       "      <td>23860269</td>\n",
       "    </tr>\n",
       "  </tbody>\n",
       "</table>\n",
       "</div>"
      ],
      "text/plain": [
       "                                      group  totalProducto\n",
       "0  Polvoroncitos Panera 40p 16 25g TR 45143       10062825\n",
       "1    Donitas Espolvoreadas 6p 105g BIM 1242       10469784\n",
       "2                  Pan Blanco 640g BIM 2233       11204506\n",
       "3             Donas Azucar 4p 105g BIM 1250       12158850\n",
       "4      Mantecadas Vainilla 4p 125g BIM 1240       12313013\n",
       "5     Bolsa Mini Rocko 40p 13g CU MLA 36610       12836368\n",
       "6              Gansito 1p 50g MTB MLA 43285       15259452\n",
       "7                  Rebanada 2p 55g BIM 1284       19625219\n",
       "8                      Nito 1p 62g BIM 1278       19660668\n",
       "9              Nito 1p 62g Central BIM 2425       23860269"
      ]
     },
     "execution_count": 29,
     "metadata": {},
     "output_type": "execute_result"
    }
   ],
   "source": [
    "productos"
   ]
  },
  {
   "cell_type": "code",
   "execution_count": 41,
   "metadata": {},
   "outputs": [
    {
     "data": {
      "text/html": [
       "<script>requirejs.config({paths: { 'plotly': ['https://cdn.plot.ly/plotly-latest.min']},});if(!window.Plotly) {{require(['plotly'],function(plotly) {window.Plotly=plotly;});}}</script>"
      ],
      "text/vnd.plotly.v1+html": [
       "<script>requirejs.config({paths: { 'plotly': ['https://cdn.plot.ly/plotly-latest.min']},});if(!window.Plotly) {{require(['plotly'],function(plotly) {window.Plotly=plotly;});}}</script>"
      ]
     },
     "metadata": {},
     "output_type": "display_data"
    },
    {
     "data": {
      "text/html": [
       "<iframe id=\"igraph\" scrolling=\"no\" style=\"border:none;\" seamless=\"seamless\" src=\"https://plot.ly/~karina.chaires/6.embed\" height=\"525px\" width=\"100%\"></iframe>"
      ],
      "text/plain": [
       "<plotly.tools.PlotlyDisplay object>"
      ]
     },
     "execution_count": 41,
     "metadata": {},
     "output_type": "execute_result"
    }
   ],
   "source": [
    "plotly.offline.init_notebook_mode(connected=True)\n",
    "\n",
    "trace0 = go.Bar(\n",
    "    x = productos['totalProducto'],\n",
    "    y = productos['group'],\n",
    "    orientation='h',\n",
    ")\n",
    "\n",
    "data = [trace0]\n",
    "layout = go.Layout(\n",
    "    title='Tendencias de los consumidores en México',\n",
    "    margin=go.Margin(\n",
    "        l=250,\n",
    "        r=20,\n",
    "        b=20,\n",
    "        t=40,\n",
    "        pad=4\n",
    "    ),\n",
    ")\n",
    "fig = go.Figure(data=data, layout=layout)\n",
    "py.iplot(fig, filename='pandas-horizontal-bar')"
   ]
  },
  {
   "cell_type": "markdown",
   "metadata": {},
   "source": [
    "- ### Ventas por semana"
   ]
  },
  {
   "cell_type": "code",
   "execution_count": 31,
   "metadata": {
    "collapsed": true
   },
   "outputs": [],
   "source": [
    "ventas_semana = pd.read_csv('DATASET_BIMBO/RESULTADOS/outputVentas.csv')"
   ]
  },
  {
   "cell_type": "code",
   "execution_count": 32,
   "metadata": {},
   "outputs": [
    {
     "data": {
      "text/html": [
       "<div>\n",
       "<style>\n",
       "    .dataframe thead tr:only-child th {\n",
       "        text-align: right;\n",
       "    }\n",
       "\n",
       "    .dataframe thead th {\n",
       "        text-align: left;\n",
       "    }\n",
       "\n",
       "    .dataframe tbody tr th {\n",
       "        vertical-align: top;\n",
       "    }\n",
       "</style>\n",
       "<table border=\"1\" class=\"dataframe\">\n",
       "  <thead>\n",
       "    <tr style=\"text-align: right;\">\n",
       "      <th></th>\n",
       "      <th>group</th>\n",
       "      <th>ventas</th>\n",
       "      <th>devolucion</th>\n",
       "    </tr>\n",
       "  </thead>\n",
       "  <tbody>\n",
       "    <tr>\n",
       "      <th>0</th>\n",
       "      <td>3</td>\n",
       "      <td>749000000.0</td>\n",
       "      <td>12800000.0</td>\n",
       "    </tr>\n",
       "    <tr>\n",
       "      <th>1</th>\n",
       "      <td>4</td>\n",
       "      <td>756000000.0</td>\n",
       "      <td>13400000.0</td>\n",
       "    </tr>\n",
       "    <tr>\n",
       "      <th>2</th>\n",
       "      <td>5</td>\n",
       "      <td>728000000.0</td>\n",
       "      <td>12300000.0</td>\n",
       "    </tr>\n",
       "    <tr>\n",
       "      <th>3</th>\n",
       "      <td>6</td>\n",
       "      <td>702000000.0</td>\n",
       "      <td>12900000.0</td>\n",
       "    </tr>\n",
       "    <tr>\n",
       "      <th>4</th>\n",
       "      <td>7</td>\n",
       "      <td>722000000.0</td>\n",
       "      <td>13700000.0</td>\n",
       "    </tr>\n",
       "    <tr>\n",
       "      <th>5</th>\n",
       "      <td>8</td>\n",
       "      <td>713000000.0</td>\n",
       "      <td>13900000.0</td>\n",
       "    </tr>\n",
       "    <tr>\n",
       "      <th>6</th>\n",
       "      <td>9</td>\n",
       "      <td>716000000.0</td>\n",
       "      <td>13300000.0</td>\n",
       "    </tr>\n",
       "  </tbody>\n",
       "</table>\n",
       "</div>"
      ],
      "text/plain": [
       "   group       ventas  devolucion\n",
       "0      3  749000000.0  12800000.0\n",
       "1      4  756000000.0  13400000.0\n",
       "2      5  728000000.0  12300000.0\n",
       "3      6  702000000.0  12900000.0\n",
       "4      7  722000000.0  13700000.0\n",
       "5      8  713000000.0  13900000.0\n",
       "6      9  716000000.0  13300000.0"
      ]
     },
     "execution_count": 32,
     "metadata": {},
     "output_type": "execute_result"
    }
   ],
   "source": [
    "ventas_semana"
   ]
  },
  {
   "cell_type": "code",
   "execution_count": 42,
   "metadata": {},
   "outputs": [
    {
     "data": {
      "text/html": [
       "<iframe id=\"igraph\" scrolling=\"no\" style=\"border:none;\" seamless=\"seamless\" src=\"https://plot.ly/~karina.chaires/4.embed\" height=\"525px\" width=\"100%\"></iframe>"
      ],
      "text/plain": [
       "<plotly.tools.PlotlyDisplay object>"
      ]
     },
     "execution_count": 42,
     "metadata": {},
     "output_type": "execute_result"
    }
   ],
   "source": [
    "trace0 = go.Scatter(\n",
    "    x = ventas_semana['group'],\n",
    "    y = ventas_semana['ventas'],\n",
    ")\n",
    "\n",
    "data = [trace0]\n",
    "layout = go.Layout(\n",
    "    title='Ventas por semana',\n",
    ")\n",
    "fig = go.Figure(data=data, layout=layout)\n",
    "py.iplot(fig, filename='scatter-mode')"
   ]
  },
  {
   "cell_type": "markdown",
   "metadata": {},
   "source": [
    "#### 4. Referencia"
   ]
  },
  {
   "cell_type": "markdown",
   "metadata": {},
   "source": [
    "- Plotly: Modern Visualization for the Data Era. (n.d.). Retrieved December 12, 2017, from https://plot.ly/\n",
    "- Vaddeman, B. (2016). Beginning Apache Pig. https://doi.org/10.1007/978-1-4842-2337-6\n",
    "- Harrison, G. (2015). Next Generation Databases. Apress. https://doi.org/10.1007/978-1-4842-1329-2"
   ]
  },
  {
   "cell_type": "code",
   "execution_count": null,
   "metadata": {
    "collapsed": true
   },
   "outputs": [],
   "source": []
  }
 ],
 "metadata": {
  "kernelspec": {
   "display_name": "Python 3",
   "language": "python",
   "name": "python3"
  },
  "language_info": {
   "codemirror_mode": {
    "name": "ipython",
    "version": 3
   },
   "file_extension": ".py",
   "mimetype": "text/x-python",
   "name": "python",
   "nbconvert_exporter": "python",
   "pygments_lexer": "ipython3",
   "version": "3.6.1"
  }
 },
 "nbformat": 4,
 "nbformat_minor": 2
}
